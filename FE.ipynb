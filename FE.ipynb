{
 "cells": [
  {
   "cell_type": "code",
   "execution_count": null,
   "id": "879e8f18",
   "metadata": {},
   "outputs": [],
   "source": [
    "import pandas as pd\n",
    "import numpy as np\n"
   ]
  },
  {
   "cell_type": "code",
   "execution_count": null,
   "id": "4ea1f55b",
   "metadata": {},
   "outputs": [],
   "source": [
    "df = pd.read_csv('apple_data.csv')  \n",
    "df['Date'] = pd.to_datetime(df['Date'])\n",
    "df.set_index('Date', inplace=True)\n",
    "df = df.asfreq('B')"
   ]
  },
  {
   "cell_type": "code",
   "execution_count": 7,
   "id": "bd20f609",
   "metadata": {},
   "outputs": [
    {
     "data": {
      "text/html": [
       "<div>\n",
       "<style scoped>\n",
       "    .dataframe tbody tr th:only-of-type {\n",
       "        vertical-align: middle;\n",
       "    }\n",
       "\n",
       "    .dataframe tbody tr th {\n",
       "        vertical-align: top;\n",
       "    }\n",
       "\n",
       "    .dataframe thead th {\n",
       "        text-align: right;\n",
       "    }\n",
       "</style>\n",
       "<table border=\"1\" class=\"dataframe\">\n",
       "  <thead>\n",
       "    <tr style=\"text-align: right;\">\n",
       "      <th></th>\n",
       "      <th>Close</th>\n",
       "      <th>High</th>\n",
       "      <th>Low</th>\n",
       "      <th>Open</th>\n",
       "      <th>Volume</th>\n",
       "    </tr>\n",
       "    <tr>\n",
       "      <th>Date</th>\n",
       "      <th></th>\n",
       "      <th></th>\n",
       "      <th></th>\n",
       "      <th></th>\n",
       "      <th></th>\n",
       "    </tr>\n",
       "  </thead>\n",
       "  <tbody>\n",
       "    <tr>\n",
       "      <th>2015-01-02</th>\n",
       "      <td>24.288580</td>\n",
       "      <td>24.757334</td>\n",
       "      <td>23.848706</td>\n",
       "      <td>24.746226</td>\n",
       "      <td>212818400.0</td>\n",
       "    </tr>\n",
       "    <tr>\n",
       "      <th>2015-01-05</th>\n",
       "      <td>23.604326</td>\n",
       "      <td>24.137507</td>\n",
       "      <td>23.417714</td>\n",
       "      <td>24.057530</td>\n",
       "      <td>257142000.0</td>\n",
       "    </tr>\n",
       "    <tr>\n",
       "      <th>2015-01-06</th>\n",
       "      <td>23.606552</td>\n",
       "      <td>23.866477</td>\n",
       "      <td>23.244433</td>\n",
       "      <td>23.668756</td>\n",
       "      <td>263188400.0</td>\n",
       "    </tr>\n",
       "    <tr>\n",
       "      <th>2015-01-07</th>\n",
       "      <td>23.937576</td>\n",
       "      <td>24.037547</td>\n",
       "      <td>23.704309</td>\n",
       "      <td>23.815388</td>\n",
       "      <td>160423600.0</td>\n",
       "    </tr>\n",
       "    <tr>\n",
       "      <th>2015-01-08</th>\n",
       "      <td>24.857306</td>\n",
       "      <td>24.915067</td>\n",
       "      <td>24.148620</td>\n",
       "      <td>24.266365</td>\n",
       "      <td>237458000.0</td>\n",
       "    </tr>\n",
       "  </tbody>\n",
       "</table>\n",
       "</div>"
      ],
      "text/plain": [
       "                Close       High        Low       Open       Volume\n",
       "Date                                                               \n",
       "2015-01-02  24.288580  24.757334  23.848706  24.746226  212818400.0\n",
       "2015-01-05  23.604326  24.137507  23.417714  24.057530  257142000.0\n",
       "2015-01-06  23.606552  23.866477  23.244433  23.668756  263188400.0\n",
       "2015-01-07  23.937576  24.037547  23.704309  23.815388  160423600.0\n",
       "2015-01-08  24.857306  24.915067  24.148620  24.266365  237458000.0"
      ]
     },
     "execution_count": 7,
     "metadata": {},
     "output_type": "execute_result"
    }
   ],
   "source": [
    "df.head()"
   ]
  },
  {
   "cell_type": "code",
   "execution_count": 5,
   "id": "bf70cbe3",
   "metadata": {},
   "outputs": [
    {
     "name": "stdout",
     "output_type": "stream",
     "text": [
      "<class 'pandas.core.frame.DataFrame'>\n",
      "DatetimeIndex: 2607 entries, 2015-01-02 to 2024-12-30\n",
      "Freq: B\n",
      "Data columns (total 5 columns):\n",
      " #   Column  Non-Null Count  Dtype  \n",
      "---  ------  --------------  -----  \n",
      " 0   Close   2515 non-null   float64\n",
      " 1   High    2515 non-null   float64\n",
      " 2   Low     2515 non-null   float64\n",
      " 3   Open    2515 non-null   float64\n",
      " 4   Volume  2515 non-null   float64\n",
      "dtypes: float64(5)\n",
      "memory usage: 122.2 KB\n"
     ]
    }
   ],
   "source": [
    "df.info()"
   ]
  },
  {
   "cell_type": "code",
   "execution_count": 6,
   "id": "dc7b31d2",
   "metadata": {},
   "outputs": [
    {
     "data": {
      "text/plain": [
       "Close     92\n",
       "High      92\n",
       "Low       92\n",
       "Open      92\n",
       "Volume    92\n",
       "dtype: int64"
      ]
     },
     "execution_count": 6,
     "metadata": {},
     "output_type": "execute_result"
    }
   ],
   "source": [
    "df.isnull().sum()"
   ]
  },
  {
   "cell_type": "markdown",
   "id": "bdc792e0",
   "metadata": {},
   "source": [
    "Handling Missing Values"
   ]
  },
  {
   "cell_type": "code",
   "execution_count": 11,
   "id": "99d4cb3c",
   "metadata": {},
   "outputs": [],
   "source": [
    "df['Close'] = df['Close'].interpolate(method='linear')"
   ]
  },
  {
   "cell_type": "code",
   "execution_count": 12,
   "id": "359cb820",
   "metadata": {},
   "outputs": [
    {
     "data": {
      "text/plain": [
       "Close      0\n",
       "High      92\n",
       "Low       92\n",
       "Open      92\n",
       "Volume    92\n",
       "dtype: int64"
      ]
     },
     "execution_count": 12,
     "metadata": {},
     "output_type": "execute_result"
    }
   ],
   "source": [
    "df.isnull().sum()"
   ]
  },
  {
   "cell_type": "markdown",
   "id": "e2c2c6fc",
   "metadata": {},
   "source": [
    "Prophet Data Preparation"
   ]
  },
  {
   "cell_type": "code",
   "execution_count": 14,
   "id": "bd5c0a82",
   "metadata": {},
   "outputs": [],
   "source": [
    "df_prophet = df[['Close']].reset_index().rename(columns={\n",
    "    'Date': 'ds',\n",
    "    'Close': 'y'\n",
    "})"
   ]
  },
  {
   "cell_type": "code",
   "execution_count": 15,
   "id": "34cbab1a",
   "metadata": {},
   "outputs": [
    {
     "data": {
      "text/html": [
       "<div>\n",
       "<style scoped>\n",
       "    .dataframe tbody tr th:only-of-type {\n",
       "        vertical-align: middle;\n",
       "    }\n",
       "\n",
       "    .dataframe tbody tr th {\n",
       "        vertical-align: top;\n",
       "    }\n",
       "\n",
       "    .dataframe thead th {\n",
       "        text-align: right;\n",
       "    }\n",
       "</style>\n",
       "<table border=\"1\" class=\"dataframe\">\n",
       "  <thead>\n",
       "    <tr style=\"text-align: right;\">\n",
       "      <th></th>\n",
       "      <th>ds</th>\n",
       "      <th>y</th>\n",
       "    </tr>\n",
       "  </thead>\n",
       "  <tbody>\n",
       "    <tr>\n",
       "      <th>0</th>\n",
       "      <td>2015-01-02</td>\n",
       "      <td>24.288580</td>\n",
       "    </tr>\n",
       "    <tr>\n",
       "      <th>1</th>\n",
       "      <td>2015-01-05</td>\n",
       "      <td>23.604326</td>\n",
       "    </tr>\n",
       "    <tr>\n",
       "      <th>2</th>\n",
       "      <td>2015-01-06</td>\n",
       "      <td>23.606552</td>\n",
       "    </tr>\n",
       "    <tr>\n",
       "      <th>3</th>\n",
       "      <td>2015-01-07</td>\n",
       "      <td>23.937576</td>\n",
       "    </tr>\n",
       "    <tr>\n",
       "      <th>4</th>\n",
       "      <td>2015-01-08</td>\n",
       "      <td>24.857306</td>\n",
       "    </tr>\n",
       "  </tbody>\n",
       "</table>\n",
       "</div>"
      ],
      "text/plain": [
       "          ds          y\n",
       "0 2015-01-02  24.288580\n",
       "1 2015-01-05  23.604326\n",
       "2 2015-01-06  23.606552\n",
       "3 2015-01-07  23.937576\n",
       "4 2015-01-08  24.857306"
      ]
     },
     "execution_count": 15,
     "metadata": {},
     "output_type": "execute_result"
    }
   ],
   "source": [
    "df_prophet.head()"
   ]
  }
 ],
 "metadata": {
  "kernelspec": {
   "display_name": "Python 3",
   "language": "python",
   "name": "python3"
  },
  "language_info": {
   "codemirror_mode": {
    "name": "ipython",
    "version": 3
   },
   "file_extension": ".py",
   "mimetype": "text/x-python",
   "name": "python",
   "nbconvert_exporter": "python",
   "pygments_lexer": "ipython3",
   "version": "3.12.2"
  }
 },
 "nbformat": 4,
 "nbformat_minor": 5
}
